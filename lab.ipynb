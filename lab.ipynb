{
 "cells": [
  {
   "cell_type": "markdown",
   "metadata": {},
   "source": [
    "# OpenCAPI course lab1, Introduction to oc-accel\n",
    "\n",
    "In this lab, we will briefly introduce the workflow of the oc-accel acceleration environment.\n",
    "The goal is to help you understand the process of starting a so-called \"Hardware/software co-simulation\" using oc-accel's helloworld tutorial.\n",
    "\n",
    "In this notebook we assume you are running from the virtual machine that is provided with the course, and have already run the installation script.\n",
    "If you wish to run the notebook from a different environment, you need to install the dependencies yourself, modify the path where oc-accel is installed, and perform the necessary configuration in oc-accel (e.g. configure the location of ocse).\n"
   ]
  },
  {
   "cell_type": "markdown",
   "metadata": {},
   "source": [
    "# Overview of oc-accel\n",
    "Before we begin, it is important to realize that OpenCAPI is based on the IBM POWER platform. \n",
    "However, developing and testing is done on x86 machines, because that is the platform supported by the software of FPGA vendors.\n",
    "So the OpenCAPI software libraries support IBM POWER for normal operation (using a real FPGA), _and_ have a simulation mode to simulate an FPGA design on x86.\n",
    "\n",
    "## Components\n",
    "In the OpenCAPI acceleration environment, several components work together;\n",
    "- __oc-accel__ Framework containing scripts, tools, base designs and examples to create OpenCAPI accelerators.\n",
    "- __ocse__ Simulation environment that allows `oc-accel` to execute software as if it was running on a POWER system with the FPGA design under test.\n",
    "  - __libocxl__ Is the library that allows programs to interface with OpenCAPI designs (either in simulation or actual hardware). It is included in the Linux kernel, but the simulation version of the library is located in `ocse`.\n",
    "- __Vivado__ Is the FPGA vendor toolchain from Xilinx. It can perform circuit simulation (used by the simulation environment) and synthesize a design to an actual FPGA.\n",
    "  Vivado can also be used to inspect the behavior of all the internals of your design after running a simulation (waveform inspection).\n",
    "\n",
    "## Documentation\n",
    "This notebook is only a small tutorial showing how to run the helloworld example. The full documentation can be found [here](https://opencapi.github.io/oc-accel-doc/).\n",
    "\n",
    "## Installation\n",
    "As stated, we assume you are running the VM provided by the OpenCAPI course and have run the installation procedure from [this repository](https://github.com/joosthooz/fletcher-oc-accel-installscripts), which is included in [the course toplevel repository](https://github.com/abs-tudelft/opencapicourse_toplevel)."
   ]
  },
  {
   "cell_type": "markdown",
   "metadata": {},
   "source": [
    "# Description of the workflow\n",
    "oc-accel provides Makefiles with various targets for the steps needed to build an accelerator design.\n",
    "In addition, there is a python script, `ocaccel_workflow.py` that will guide the user through these steps using a menu-based configuration.\n",
    "\n",
    "## Steps\n",
    "- __Configure__ During configuration, the user chooses which FPGA board to use, general OpenCAPI parameters, and which particular \"action\" the accelerator should perform. An action consists of a hardware design and usually also includes some example code to demonstrate how to call this accelerator from software. Users can add actions of their own, or modify an action to their needs.\n",
    "- __Build model__ This step builds the simulation model based on the action's hardware design. It includes compiling all of the hardware sources using the circuit simulator's toolchain. \n",
    "- __Software compilation__ The action's software is compiled and linked against the needed libraries such as libocxl.\n",
    "- __Run simulation__ The circuit simulation is started, and connected to the simulation environment. This will forward the library calls to the simulation. This way, the executed happens in almost the exact same way as if the program would be running on a POWER machine with an FPGA attached. The timing behavior will be quite different, as the simulation is orders of magnitude slower than the real FPGA.\n",
    "- __waveform inspection__ All the design's internal behavior is stored during the simulation. This step opens a waveform viewer to look at these signals. The user can choose which signals to look at.\n",
    "- __Synthesis__ If the accelerator has been verified to be working properly in simulation, a \"bitstream\" can be generated for the FPGA. This bitstream can then be loaded onto the FPGA by the POWER machine in which it resides."
   ]
  },
  {
   "cell_type": "markdown",
   "metadata": {},
   "source": [
    "In the following cell, we will use the scripting facilities of oc-accel to perform all the needed steps for the `HLS_helloworld` example. After this, we encourage you to perform the steps as explained in [this page in the manual](https://opencapi.github.io/oc-accel-doc/user-guide/2-run-helloworld/), and verify that the results are the same."
   ]
  },
  {
   "cell_type": "code",
   "execution_count": null,
   "metadata": {},
   "outputs": [],
   "source": [
    "import os\n",
    "WORKSPACE=\"/home/opencapi/workspace\"\n",
    "ocaccel_path=os.path.join(WORKSPACE, \"OpenCAPI/oc-accel\")\n",
    "ocaccel_defconfig_path=os.path.join(ocaccel_path, \"defconfig/\")\n",
    "\n",
    "# Add the configuration file we have prepared for this lab to oc-accel\n",
    "!cp hls_helloworld.defconfig {ocaccel_defconfig_path}"
   ]
  },
  {
   "cell_type": "code",
   "execution_count": null,
   "metadata": {},
   "outputs": [],
   "source": [
    "# In this example, we run HLS_helloworld using oc-accel\n",
    "# Go into the oc-accel working directory\n",
    "%cd {ocaccel_path}\n",
    "\n",
    "!make -s hls_helloworld.defconfig && ./ocaccel_workflow.py --no_configure -t {ocaccel_path}/actions/hls_helloworld_1024/tests/hw_test.sh\n",
    "\n"
   ]
  },
  {
   "cell_type": "code",
   "execution_count": null,
   "metadata": {},
   "outputs": [],
   "source": [
    "!cat actions/hls_helloworld_1024/tests/hw_test.sh.log"
   ]
  }
 ],
 "metadata": {
  "kernelspec": {
   "display_name": "Python 3",
   "language": "python",
   "name": "python3"
  },
  "language_info": {
   "codemirror_mode": {
    "name": "ipython",
    "version": 3
   },
   "file_extension": ".py",
   "mimetype": "text/x-python",
   "name": "python",
   "nbconvert_exporter": "python",
   "pygments_lexer": "ipython3",
   "version": "3.6.12"
  }
 },
 "nbformat": 4,
 "nbformat_minor": 5
}
